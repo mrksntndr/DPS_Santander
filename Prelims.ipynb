{
  "nbformat": 4,
  "nbformat_minor": 0,
  "metadata": {
    "colab": {
      "provenance": [],
      "authorship_tag": "ABX9TyOdFHLEHlOwgK1EyXuYOrS7",
      "include_colab_link": true
    },
    "kernelspec": {
      "name": "python3",
      "display_name": "Python 3"
    },
    "language_info": {
      "name": "python"
    }
  },
  "cells": [
    {
      "cell_type": "markdown",
      "metadata": {
        "id": "view-in-github",
        "colab_type": "text"
      },
      "source": [
        "<a href=\"https://colab.research.google.com/github/mrksntndr/DPS_Santander/blob/main/Prelims.ipynb\" target=\"_parent\"><img src=\"https://colab.research.google.com/assets/colab-badge.svg\" alt=\"Open In Colab\"/></a>"
      ]
    },
    {
      "cell_type": "markdown",
      "source": [
        "**LIBRARY**"
      ],
      "metadata": {
        "id": "aCSWmBStjHu3"
      }
    },
    {
      "cell_type": "code",
      "execution_count": 50,
      "metadata": {
        "id": "S_zcjvLxhq68"
      },
      "outputs": [],
      "source": [
        "import numpy as np\n",
        "\n",
        "import matplotlib.pyplot as plt"
      ]
    },
    {
      "cell_type": "markdown",
      "source": [
        "# NUMBER 1\n"
      ],
      "metadata": {
        "id": "BU67qJ5sjjp5"
      }
    },
    {
      "cell_type": "markdown",
      "source": [
        "**GIVEN**"
      ],
      "metadata": {
        "id": "EN86gcv0kWNX"
      }
    },
    {
      "cell_type": "code",
      "source": [
        "H=(1/np.sqrt(2))*np.array([[1,1],\n",
        "                           [1,-1]])\n",
        "\n",
        "Y=np.array([[0,-1j],\n",
        "            [1j,0]])\n",
        "\n",
        "O=np.array([[1,0],\n",
        "            [1,1]])"
      ],
      "metadata": {
        "id": "eyYva1mHk9zT"
      },
      "execution_count": 51,
      "outputs": []
    },
    {
      "cell_type": "markdown",
      "source": [
        "**REFERENCE QUIVER FUNCTION**"
      ],
      "metadata": {
        "id": "0x_Fu7H5z6oB"
      }
    },
    {
      "cell_type": "code",
      "source": [
        "def plot_quiv(x,t_mat=np.eye(2)):\n",
        "    x_prime = x @ t_mat\n",
        "\n",
        "    size= (2,2)\n",
        "    plt.figure(figsize=(4,4))\n",
        "    plt.xlim(-size[0],size[0])\n",
        "    plt.ylim(-size[1],size[1])\n",
        "    plt.xticks(np.arange((-size[0]), size[0]+1, 1.0))\n",
        "    plt.yticks(np.arange((-size[1]), size[1]+1, 1.0))\n",
        "\n",
        "    plt.quiver([0,0],[0,0], x_prime[0,:], x_prime[1,:],\n",
        "               angles='xy', scale_units='xy',scale=1,\n",
        "               color=['red','blue'])## use column spaces\n",
        "    plt.grid()\n",
        "    plt.show()"
      ],
      "metadata": {
        "id": "0t_FCLS3zeuK"
      },
      "execution_count": 52,
      "outputs": []
    },
    {
      "cell_type": "markdown",
      "source": [
        "**(H • Y)**"
      ],
      "metadata": {
        "id": "DRN5J8FZlosQ"
      }
    },
    {
      "cell_type": "code",
      "source": [
        "a1 = np.dot(H,Y)\n",
        "\n",
        "a1_magnitude = round(np.linalg.norm(a1, ord=2),2)\n",
        "a1_angle = np.angle(a1, deg=True)\n",
        "\n",
        "print(a1)\n",
        "print(\"\\nMagnitude:\", a1_magnitude)\n",
        "print(\"\\nAngle:\\n\", a1_angle)\n",
        "\n",
        "plot_quiv(np.abs(a1))"
      ],
      "metadata": {
        "colab": {
          "base_uri": "https://localhost:8080/",
          "height": 513
        },
        "id": "mxRNOI6mltTK",
        "outputId": "2ea12795-8f79-4f8d-9702-adb4183e6aa7"
      },
      "execution_count": 54,
      "outputs": [
        {
          "output_type": "stream",
          "name": "stdout",
          "text": [
            "[[0.+0.70710678j 0.-0.70710678j]\n",
            " [0.-0.70710678j 0.-0.70710678j]]\n",
            "\n",
            "Magnitude: 1.0\n",
            "\n",
            "Angle:\n",
            " [[ 90. -90.]\n",
            " [-90. -90.]]\n"
          ]
        },
        {
          "output_type": "display_data",
          "data": {
            "text/plain": [
              "<Figure size 400x400 with 1 Axes>"
            ],
            "image/png": "[encoded data removed]"
          },
          "metadata": {}
        }
      ]
    },
    {
      "cell_type": "markdown",
      "source": [
        "**(Y • H)**"
      ],
      "metadata": {
        "id": "O94kJKUaoHkd"
      }
    },
    {
      "cell_type": "code",
      "source": [
        "a2 = np.dot(Y,H)\n",
        "\n",
        "a2_magnitude = round(np.linalg.norm(a2, ord=2),2)\n",
        "a2_angle = np.angle(a2, deg=True)\n",
        "\n",
        "print(a2)\n",
        "print(\"\\nMagnitude:\", a2_magnitude)\n",
        "print(\"\\nAngle:\\n\", a2_angle)"
      ],
      "metadata": {
        "colab": {
          "base_uri": "https://localhost:8080/"
        },
        "id": "T599cmxCoLve",
        "outputId": "fbdc6f72-871e-41b1-c18c-2a2dda69baf8"
      },
      "execution_count": 55,
      "outputs": [
        {
          "output_type": "stream",
          "name": "stdout",
          "text": [
            "[[0.-0.70710678j 0.+0.70710678j]\n",
            " [0.+0.70710678j 0.+0.70710678j]]\n",
            "\n",
            "Magnitude: 1.0\n",
            "\n",
            "Angle:\n",
            " [[-90.  90.]\n",
            " [ 90.  90.]]\n"
          ]
        }
      ]
    },
    {
      "cell_type": "markdown",
      "source": [
        "**(H • H)**"
      ],
      "metadata": {
        "id": "E8R9W7rqpfFP"
      }
    },
    {
      "cell_type": "code",
      "source": [
        "out1 = np.dot(H,H)\n",
        "a3 = np.round(out1)\n",
        "\n",
        "a3_magnitude = round(np.linalg.norm(a3, ord=2),2)\n",
        "a3_angle = np.angle(a3, deg=True)\n",
        "\n",
        "print(a3)\n",
        "print(\"\\nMagnitude:\", a3_magnitude)\n",
        "print(\"\\nAngle:\\n\", a3_angle)"
      ],
      "metadata": {
        "colab": {
          "base_uri": "https://localhost:8080/"
        },
        "id": "MN7PP84lpj6S",
        "outputId": "472123af-0f65-4ddc-9eb4-a9b353b02c19"
      },
      "execution_count": 56,
      "outputs": [
        {
          "output_type": "stream",
          "name": "stdout",
          "text": [
            "[[ 1. -0.]\n",
            " [-0.  1.]]\n",
            "\n",
            "Magnitude: 1.0\n",
            "\n",
            "Angle:\n",
            " [[  0. 180.]\n",
            " [180.   0.]]\n"
          ]
        }
      ]
    },
    {
      "cell_type": "markdown",
      "source": [
        "**(Y • H • O)**"
      ],
      "metadata": {
        "id": "53Gm3PqPqjTd"
      }
    },
    {
      "cell_type": "code",
      "source": [
        "out1 = np.dot(Y,H)\n",
        "out2 = np.dot(out1,O)\n",
        "a4 = np.round(out2)\n",
        "\n",
        "a4_magnitude = round(np.linalg.norm(a4, ord=2),2)\n",
        "a4_angle = np.angle(a4, deg=True)\n",
        "\n",
        "print(a4)\n",
        "print(\"\\nMagnitude:\", a4_magnitude)\n",
        "print(\"\\nAngle:\\n\", a4_angle)"
      ],
      "metadata": {
        "colab": {
          "base_uri": "https://localhost:8080/"
        },
        "id": "cssaF6qLqnBD",
        "outputId": "ac309c09-d893-4e1b-f6a9-62139d36d9e5"
      },
      "execution_count": 57,
      "outputs": [
        {
          "output_type": "stream",
          "name": "stdout",
          "text": [
            "[[0.+0.j 0.+1.j]\n",
            " [0.+1.j 0.+1.j]]\n",
            "\n",
            "Magnitude: 1.62\n",
            "\n",
            "Angle:\n",
            " [[ 0. 90.]\n",
            " [90. 90.]]\n"
          ]
        }
      ]
    },
    {
      "cell_type": "markdown",
      "source": [
        "**(H • Y • H • O)**"
      ],
      "metadata": {
        "id": "Dvs0xlPprH_4"
      }
    },
    {
      "cell_type": "code",
      "source": [
        "out1 = np.dot(H,Y)\n",
        "out2 = np.dot(out1,H)\n",
        "out3 = np.dot(out2,O)\n",
        "a5 = np.round(out3)\n",
        "\n",
        "a5_magnitude = round(np.linalg.norm(a5, ord=2),2)\n",
        "a5_angle = np.angle(a5, deg=True)\n",
        "\n",
        "print(a5)\n",
        "print(\"\\nMagnitude:\", a5_magnitude)\n",
        "print(\"\\nAngle:\\n\", a5_angle)"
      ],
      "metadata": {
        "colab": {
          "base_uri": "https://localhost:8080/"
        },
        "id": "X4dsqDWwrK7b",
        "outputId": "a95bbfd5-96f2-4d1e-80f5-e9e146b69c55"
      },
      "execution_count": 58,
      "outputs": [
        {
          "output_type": "stream",
          "name": "stdout",
          "text": [
            "[[0.+1.j 0.+1.j]\n",
            " [0.-1.j 0.+0.j]]\n",
            "\n",
            "Magnitude: 1.62\n",
            "\n",
            "Angle:\n",
            " [[ 90.  90.]\n",
            " [-90.   0.]]\n"
          ]
        }
      ]
    },
    {
      "cell_type": "markdown",
      "source": [
        "# NUMBER 2"
      ],
      "metadata": {
        "id": "t6sYkp4MrjG2"
      }
    },
    {
      "cell_type": "markdown",
      "source": [
        "Solving for Determinant"
      ],
      "metadata": {
        "id": "HsmED4NMroND"
      }
    },
    {
      "cell_type": "code",
      "source": [
        "DETH = np.round(np.linalg.det(H))\n",
        "DETY = np.round(np.linalg.det(Y))\n",
        "\n",
        "print(\"Determinant of H:\", \"(\",DETH,\")\" \"\\n\")\n",
        "print(\"Determinant of Y:\", DETY)"
      ],
      "metadata": {
        "colab": {
          "base_uri": "https://localhost:8080/"
        },
        "id": "5hXVxVAZr4Ns",
        "outputId": "f6da00ee-cf2d-42f3-abe8-1163709f255b"
      },
      "execution_count": 59,
      "outputs": [
        {
          "output_type": "stream",
          "name": "stdout",
          "text": [
            "Determinant of H: ( -1.0 )\n",
            "\n",
            "Determinant of Y: (-1+0j)\n"
          ]
        }
      ]
    },
    {
      "cell_type": "markdown",
      "source": [
        "# NUMBER 3"
      ],
      "metadata": {
        "id": "7LWC4MkDsiIN"
      }
    },
    {
      "cell_type": "markdown",
      "source": [
        "**1)**"
      ],
      "metadata": {
        "id": "r4BiEYpRszP4"
      }
    },
    {
      "cell_type": "code",
      "source": [
        "m = np.array([[5, 0, 0], [0, 5, 0], [0, 0, 5]])\n",
        "n = np.array([[1, 0, 5], [2, 7, 6], [6, 4, 7]])\n",
        "\n",
        "prod = np.dot(m, n)\n",
        "DETP = round(np.linalg.det(prod))\n",
        "\n",
        "print(\"Product of matrices m and n:\\n\")\n",
        "print(prod)\n",
        "print(\"\\nDeterminant:\", DETP)"
      ],
      "metadata": {
        "colab": {
          "base_uri": "https://localhost:8080/"
        },
        "id": "lQYirwBVsyyl",
        "outputId": "fc1b8874-ddfc-4120-ed63-51732741ea86"
      },
      "execution_count": 60,
      "outputs": [
        {
          "output_type": "stream",
          "name": "stdout",
          "text": [
            "Product of matrices m and n:\n",
            "\n",
            "[[ 5  0 25]\n",
            " [10 35 30]\n",
            " [30 20 35]]\n",
            "\n",
            "Determinant: -18125\n"
          ]
        }
      ]
    },
    {
      "cell_type": "markdown",
      "source": [
        "**2)**"
      ],
      "metadata": {
        "id": "-m_FF152t-JW"
      }
    },
    {
      "cell_type": "code",
      "source": [
        "m = np.array([[1,2,6], [3,15,4], [2,10,3]])\n",
        "\n",
        "n = np.array([[5,2,4], [6,2,4], [0,1,1]])\n",
        "\n",
        "prod = np.dot(m, n)\n",
        "DETP = round(np.linalg.det(prod))\n",
        "\n",
        "print(\"Product of matrices m and n:\\n\")\n",
        "print(prod)\n",
        "print(\"\\nDeterminant:\", DETP)"
      ],
      "metadata": {
        "colab": {
          "base_uri": "https://localhost:8080/"
        },
        "id": "xc8x46yeuAhL",
        "outputId": "5b6765cb-abcd-44be-f305-fda82a3d5af7"
      },
      "execution_count": 61,
      "outputs": [
        {
          "output_type": "stream",
          "name": "stdout",
          "text": [
            "Product of matrices m and n:\n",
            "\n",
            "[[ 17  12  18]\n",
            " [105  40  76]\n",
            " [ 70  27  51]]\n",
            "\n",
            "Determinant: 6\n"
          ]
        }
      ]
    },
    {
      "cell_type": "markdown",
      "source": [
        "# NUMBER 4"
      ],
      "metadata": {
        "id": "RBOALpGGuOeK"
      }
    },
    {
      "cell_type": "markdown",
      "source": [
        "**DECLARATION OF VECTORS**"
      ],
      "metadata": {
        "id": "NW2ZoizLuUzN"
      }
    },
    {
      "cell_type": "code",
      "source": [
        "T = np.array([0, np.pi/4, np.pi/2, 3*np.pi/4, np.pi])\n",
        "G = np.array([5, 3, 0, -3, 5])"
      ],
      "metadata": {
        "id": "QpmRagmKuarJ"
      },
      "execution_count": 62,
      "outputs": []
    },
    {
      "cell_type": "markdown",
      "source": [
        "**PLOTTING**"
      ],
      "metadata": {
        "id": "5IDGpjZEugkd"
      }
    },
    {
      "cell_type": "code",
      "source": [
        "plt.plot(T, G, '-o')\n",
        "plt.xlabel('(T) time')\n",
        "plt.ylabel('(G) amplitude')\n",
        "plt.grid()\n",
        "plt.show()"
      ],
      "metadata": {
        "colab": {
          "base_uri": "https://localhost:8080/",
          "height": 449
        },
        "id": "TJ8KkJ8TuiqR",
        "outputId": "5fd4ebc4-01aa-41db-fbde-b513adfdb2a0"
      },
      "execution_count": 63,
      "outputs": [
        {
          "output_type": "display_data",
          "data": {
            "text/plain": [
              "<Figure size 640x480 with 1 Axes>"
            ],
            "image/png": "[encoded data removed]"
          },
          "metadata": {}
        }
      ]
    }
  ]
}